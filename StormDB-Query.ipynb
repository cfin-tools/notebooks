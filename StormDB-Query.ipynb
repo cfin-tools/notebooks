{
 "cells": [
  {
   "cell_type": "markdown",
   "metadata": {
    "collapsed": false
   },
   "source": [
    "# Accessing your data in StormDB using queries\n",
    "\n",
    "Background/motivation here...\n",
    "When collecting rather large data, you want to minimize duplication of data, so that it wont take up place. Noteworthy when you're having a big pile of files stacking up. With os.symlink you will be able to create symbolic links to your raw-data.\n",
    "\n",
    "How it is built up:\n",
    "* Connect to StormDB\n",
    "* Using lists for series storage, where you can set specific criterias for what you need.\n",
    "* It will create the destination folder for the symbolic links, if the folder does not exist.\n",
    "* Using lists for creating symbolic links."
   ]
  },
  {
   "cell_type": "markdown",
   "metadata": {},
   "source": [
    "## Prerequisites\n",
    "\n",
    "You must have the module `stormdb-python` in your Python path. A stable version is installed on the servers, but you may also want to clone a copy of the module into your project-folder."
   ]
  },
  {
   "cell_type": "code",
   "execution_count": null,
   "metadata": {
    "collapsed": true
   },
   "outputs": [],
   "source": [
    "# These are optional, if you wish to modify your path\n",
    "# import sys\n",
    "# sys.path.insert(0, '/path/to/your/local/copy/of/stormdb-python)"
   ]
  },
  {
   "cell_type": "markdown",
   "metadata": {},
   "source": [
    "## Import and initialise the Query-object\n",
    "Remember to edit the `proj_name` to your project"
   ]
  },
  {
   "cell_type": "code",
   "execution_count": 1,
   "metadata": {
    "collapsed": true
   },
   "outputs": [],
   "source": [
    "from stormdb.access import Query\n",
    "from os.path import join\n",
    "import os"
   ]
  },
  {
   "cell_type": "code",
   "execution_count": null,
   "metadata": {
    "collapsed": false
   },
   "outputs": [],
   "source": [
    "# optional: see documentation for Query\n",
    "Query?"
   ]
  },
  {
   "cell_type": "code",
   "execution_count": 2,
   "metadata": {
    "collapsed": false
   },
   "outputs": [],
   "source": [
    "proj_name = 'MEG_service'\n",
    "qy = Query(proj_name)"
   ]
  },
  {
   "cell_type": "markdown",
   "metadata": {},
   "source": [
    "To see what methods a Python-object offers, type the name of the instance, a dot, and hit Tab!"
   ]
  },
  {
   "cell_type": "markdown",
   "metadata": {},
   "source": [
    "## Do a search for series (file names) matching a particular pattern\n",
    "You can see the series, if you \n",
    "1. log in to StormDb.\n",
    "2. Click on the project\n",
    "3. Click on the subject \n",
    "4. Click on the study.\n",
    "5. Find the right series.\n",
    "\n",
    "The cell below finds every series with \"aud_vis\" in their name and puts them into the list."
   ]
  },
  {
   "cell_type": "code",
   "execution_count": 4,
   "metadata": {
    "collapsed": false
   },
   "outputs": [],
   "source": [
    "#series_list = qy.filter_series('aud_vis*')"
   ]
  },
  {
   "cell_type": "code",
   "execution_count": null,
   "metadata": {
    "collapsed": true
   },
   "outputs": [],
   "source": [
    "series_list = qy.filter_series('*')"
   ]
  },
  {
   "cell_type": "code",
   "execution_count": null,
   "metadata": {
    "collapsed": true
   },
   "outputs": [],
   "source": [
    "join?"
   ]
  },
  {
   "cell_type": "markdown",
   "metadata": {
    "collapsed": true
   },
   "source": [
    "## Different useful commands for this notebook\n",
    "* `series_list`\n",
    "    * This will show you what is in the list.\n",
    "* `series_list[0]['path']`\n",
    "    * Will show the path, for the first series in the list\n",
    "* `series_list[0]['files'][0]`\n",
    "    * Will show the first filename, for the first series in the list\n",
    "* `join(series_list[0]['path'], series_list[0]['files'][0])`\n",
    "    * By \"joining\" the above 2 commands, you will be able to set up the path for the file.\n",
    "* `os.symlink?`\n",
    "    * Will show information about how to write the method."
   ]
  },
  {
   "cell_type": "markdown",
   "metadata": {},
   "source": [
    "## Exercise: Creating a \"Neuromag-like\" folder structure for raw files\n",
    "\n",
    "Elekta Neuromag MEG data are saved on the acquisition computer as:\n",
    "\n",
    "```bash\n",
    "/neuro/data/sinuhe/neuromag_project_name/subj_ID/yymmdd/foo_raw.fif\n",
    "/neuro/data/sinuhe/neuromag_project_name/subj_ID/yymmdd/bar_raw.fif\n",
    "/neuro/data/sinuhe/neuromag_project_name/subj_ID/yymmdd/bar_raw-1.fif\n",
    "/neuro/data/sinuhe/neuromag_project_name/subj_ID/yymmdd/bar_raw-2.fif\n",
    "```\n",
    "\n",
    "where the suffix `-1`, `-2`, ..., indicates that the acquisition `bar` was so long that it was split into a total of 3 files of maximum size 2 GB each.\n",
    "\n",
    "1. Make a folder called scratch/raw_link (`os.makedirs`)\n",
    "2. Make sub-folder for study date & subject ID (00XX_ABC)\n",
    "3. Use `os.symlink` to make symbolic link from raw-folder to `raw_link/subj_ID/yymmdd/foo_raw.fif`\n",
    "    * Note that the source file name is not what we want the destination file to be called\n",
    "    * instead, if the source is `raw/.../files/PROJ0xxx_SUBJ0yyy_SER0zz_FILESNO001.fif`, the destination should be `raw_link/0yyy_ABC/yymmdd/whatever_the_series_name_is_raw.fif`\n",
    "\n",
    "End result should look like this:\n",
    "\n",
    "```bash\n",
    "/projects/MINDLAB_PROJ_NAME/scratch/raw_links/subj_ID/yymmdd/foo_raw.fif\n",
    "/projects/MINDLAB_PROJ_NAME/scratch/raw_links/subj_ID/yymmdd/bar_raw.fif\n",
    "/projects/MINDLAB_PROJ_NAME/scratch/raw_links/subj_ID/yymmdd/bar_raw-1.fif\n",
    "/projects/MINDLAB_PROJ_NAME/scratch/raw_links/subj_ID/yymmdd/bar_raw-2.fif\n",
    "```\n"
   ]
  },
  {
   "cell_type": "code",
   "execution_count": null,
   "metadata": {
    "collapsed": false
   },
   "outputs": [],
   "source": [
    "out_folder = join('/projects',proj_name,'scratch/raw_link',series_list[0]['subjectcode'],series_list[0]['study'][2:8])"
   ]
  },
  {
   "cell_type": "code",
   "execution_count": null,
   "metadata": {
    "collapsed": false
   },
   "outputs": [],
   "source": [
    "# Ensure that output path exists\n",
    "if not os.path.exists(out_folder):\n",
    "    os.makedirs(out_folder)\n",
    "print('Output folder: {:s}'.format(out_folder))"
   ]
  },
  {
   "cell_type": "markdown",
   "metadata": {},
   "source": [
    "If get into trouble, delete the raw_links-folder and start again!\n",
    "```bash\n",
    "rm -rf raw_links\n",
    "```"
   ]
  },
  {
   "cell_type": "code",
   "execution_count": null,
   "metadata": {
    "collapsed": false
   },
   "outputs": [],
   "source": [
    "overwrite = True\n",
    "for x in series_list:\n",
    "    for idx, fil in enumerate(x['files']):\n",
    "        out_fname = join(out_folder, '{0}_raw.fif'.format(x['seriename']))\n",
    "        if idx > 0:  # data size > 2 GB\n",
    "            out_fname = out_fname[:-4] + '-{0}.fif'.format(idx)\n",
    " \n",
    "        try:\n",
    "            os.symlink((join(x['path'], fil)), out_fname)\n",
    "        except OSError as e:\n",
    "            if e.errno == 17:  # FileExists\n",
    "                if not overwrite:\n",
    "                    print('Link exists, skipping {0}'.format(out_fname))\n",
    "                else:\n",
    "                    print('Link exists, re-linking {0}'.format(out_fname))\n",
    "                    os.remove(out_fname)\n",
    "                    os.symlink((join(x['path'], fil)), out_fname)\n",
    "        #print(out_fname)"
   ]
  },
  {
   "cell_type": "code",
   "execution_count": null,
   "metadata": {
    "collapsed": false
   },
   "outputs": [],
   "source": [
    "os.symlink?"
   ]
  },
  {
   "cell_type": "code",
   "execution_count": null,
   "metadata": {
    "collapsed": true
   },
   "outputs": [],
   "source": []
  }
 ],
 "metadata": {
  "hide_input": false,
  "kernelspec": {
   "display_name": "Python 2",
   "language": "python",
   "name": "python2"
  },
  "language_info": {
   "codemirror_mode": {
    "name": "ipython",
    "version": 2
   },
   "file_extension": ".py",
   "mimetype": "text/x-python",
   "name": "python",
   "nbconvert_exporter": "python",
   "pygments_lexer": "ipython2",
   "version": "2.7.12"
  }
 },
 "nbformat": 4,
 "nbformat_minor": 0
}
