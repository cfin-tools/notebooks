{
 "cells": [
  {
   "cell_type": "markdown",
   "metadata": {},
   "source": [
    "# Extraction of stimulus delay data.\n",
    "In this notebook you will be able to find the delay of audio and video. The two delays will be shown on different figures as histograms."
   ]
  },
  {
   "cell_type": "code",
   "execution_count": null,
   "metadata": {
    "collapsed": true
   },
   "outputs": [],
   "source": [
    "%matplotlib inline"
   ]
  },
  {
   "cell_type": "code",
   "execution_count": null,
   "metadata": {
    "collapsed": false
   },
   "outputs": [],
   "source": [
    "from stormdb.access import Query\n",
    "from os.path import join\n",
    "from meeg.extract_delays_MEG import extract_delays"
   ]
  },
  {
   "cell_type": "markdown",
   "metadata": {},
   "source": [
    "### File layout\n",
    "For the cell below \n",
    "* Set `vis_trig_code` to the correct visual trigger code\n",
    "* Set `aud_trig_code` to the correct auditory trigger code\n",
    "* Set `proj_name` to the correct project name"
   ]
  },
  {
   "cell_type": "code",
   "execution_count": null,
   "metadata": {
    "collapsed": true
   },
   "outputs": [],
   "source": [
    "vis_trig_code = 2\n",
    "aud_trig_code = 1\n",
    "proj_name = 'MEG_service'"
   ]
  },
  {
   "cell_type": "code",
   "execution_count": null,
   "metadata": {
    "collapsed": false
   },
   "outputs": [],
   "source": [
    "qy = Query(proj_name)\n",
    "plot_figures = True"
   ]
  },
  {
   "cell_type": "markdown",
   "metadata": {},
   "source": [
    "### Commands for retrieving raw data\n",
    "* We'll retrieve the raw data from the StormDB\n",
    "    * To find the right series/raw data, you can:\n",
    "        1. Log in to StormDB\n",
    "        2. Click on the project\n",
    "        3. Click on the subject\n",
    "        4. Click on the study\n",
    "        5. Find the right series\n",
    "* The `filter_series` method lets you search for parts of the path/file name.\n",
    "    * The files that is in this path, will then be put into the `filelist`\n",
    "* By writing `filelist` you can see every file/item in it.\n",
    "    * If your desired file is in the first slot of the list, you can continue to `extract_delays`\n",
    "        * Else you will have edit the `raw_fname` so you access the right file`"
   ]
  },
  {
   "cell_type": "code",
   "execution_count": null,
   "metadata": {
    "collapsed": false
   },
   "outputs": [],
   "source": [
    "filelist = qy.filter_series('aud_vis_LPT_psychopy*')\n",
    "raw_fname = join(filelist[0]['path'], filelist[0]['files'][0])"
   ]
  },
  {
   "cell_type": "markdown",
   "metadata": {},
   "source": [
    "### Visual stimuli"
   ]
  },
  {
   "cell_type": "code",
   "execution_count": null,
   "metadata": {
    "collapsed": false,
    "scrolled": true
   },
   "outputs": [],
   "source": [
    "vis_delays, vis_stats = extract_delays(raw_fname, trig_codes=vis_trig_code,\n",
    "                                       plot_figures=plot_figures,\n",
    "                                       crop_plot_time=(-0.050, 0.150))\n",
    "print('Median delay: {:.1f} ms (range: {:.1f} - {:.1f} ms)'.format(vis_stats['median'],\n",
    "                                                                   vis_delays.min(),\n",
    "                                                                   vis_delays.max()))"
   ]
  },
  {
   "cell_type": "markdown",
   "metadata": {},
   "source": [
    "### Auditory stimuli"
   ]
  },
  {
   "cell_type": "code",
   "execution_count": null,
   "metadata": {
    "collapsed": false
   },
   "outputs": [],
   "source": [
    "aud_delays, aud_stats = extract_delays(raw_fname, trig_codes=aud_trig_code, misc_chan='MISC002',\n",
    "                                       plot_figures=plot_figures,\n",
    "                                       crop_plot_time=(-0.050, 0.300))\n",
    "print('Median delay: {:.1f} ms (range: {:.1f} - {:.1f} ms)'.format(aud_stats['median'],\n",
    "                                                                   aud_delays.min(),\n",
    "                                                                   aud_delays.max()))"
   ]
  },
  {
   "cell_type": "markdown",
   "metadata": {
    "collapsed": true
   },
   "source": [
    "### Commands for checking data and statistic values\n",
    "* By calling `delays` you will be able to see a list of each delay\n",
    "* `stats.keys()` will let you see every possible command for statistic values\n",
    "    * F.ex `stats['median']`"
   ]
  },
  {
   "cell_type": "code",
   "execution_count": null,
   "metadata": {
    "collapsed": false
   },
   "outputs": [],
   "source": [
    "vis_stats.keys()"
   ]
  }
 ],
 "metadata": {
  "kernelspec": {
   "display_name": "Python 2",
   "language": "python",
   "name": "python2"
  },
  "language_info": {
   "codemirror_mode": {
    "name": "ipython",
    "version": 2
   },
   "file_extension": ".py",
   "mimetype": "text/x-python",
   "name": "python",
   "nbconvert_exporter": "python",
   "pygments_lexer": "ipython2",
   "version": "2.7.12"
  }
 },
 "nbformat": 4,
 "nbformat_minor": 0
}
